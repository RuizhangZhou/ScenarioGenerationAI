{
 "cells": [
  {
   "cell_type": "code",
   "execution_count": null,
   "id": "ce779603",
   "metadata": {},
   "outputs": [],
   "source": [
    "import os\n",
    "import pandas as pd\n",
    "\n",
    "def check_file_dimensions(folder_path):\n",
    "    incorrect_files = []\n",
    "    for root, dirs, files in os.walk(folder_path):\n",
    "        for file in files:\n",
    "            file_path = os.path.abspath(os.path.join(root, file))\n",
    "            try:\n",
    "                df = pd.read_csv(file_path)\n",
    "                if df.shape != (45030, 4):\n",
    "                    incorrect_files.append(file_path)\n",
    "                    print(file_path+\": wrong\")\n",
    "                else:\n",
    "                    print(file_path+\": right\")\n",
    "            except pd.errors.EmptyDataError:\n",
    "                # Handle empty files\n",
    "                pass\n",
    "            except pd.errors.ParserError:\n",
    "                # Handle invalid CSV files\n",
    "                pass\n",
    "    return incorrect_files\n",
    "\n",
    "folder_path = '/DATA1/rzhou/ika/testcases/inD/full_cases'  # 替换为你的文件夹路径\n",
    "incorrect_files = check_file_dimensions(folder_path)\n",
    "\n",
    "if len(incorrect_files) > 0:\n",
    "    print(\"以下文件维度不是 (45030, 4):\")\n",
    "    for file_path in incorrect_files:\n",
    "        print(file_path)\n",
    "else:\n",
    "    print(\"所有文件维度均为 (45030, 4)。\")r\n"
   ]
  },
  {
   "cell_type": "code",
   "execution_count": null,
   "id": "abeb939b",
   "metadata": {},
   "outputs": [],
   "source": []
  }
 ],
 "metadata": {
  "kernelspec": {
   "display_name": "greaselm",
   "language": "python",
   "name": "greaselm"
  },
  "language_info": {
   "codemirror_mode": {
    "name": "ipython",
    "version": 3
   },
   "file_extension": ".py",
   "mimetype": "text/x-python",
   "name": "python",
   "nbconvert_exporter": "python",
   "pygments_lexer": "ipython3",
   "version": "3.8.18"
  }
 },
 "nbformat": 4,
 "nbformat_minor": 5
}
