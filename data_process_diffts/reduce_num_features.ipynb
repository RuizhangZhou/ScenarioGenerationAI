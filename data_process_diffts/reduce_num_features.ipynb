{
 "cells": [
  {
   "cell_type": "code",
   "execution_count": null,
   "metadata": {},
   "outputs": [],
   "source": [
    "import pandas as pd\n",
    "\n",
    "Dtype = \"rounD\"  # Ensure this variable is used consistently\n",
    "n=2\n",
    "num_feature=112\n",
    "# Corrected the variable name to Dtype and used :02d for two-digit formatting\n",
    "df = pd.read_csv(f\"/DATA1/rzhou/ika/multi_testcases/{Dtype}/ori/{Dtype}_map{n:02d}_interval100_seq1000_nfea{num_feature}.csv\")\n",
    "\n",
    "# Assuming you want to keep columns related to 50 tracks (100 columns for x and y + 1 for caseID)\n",
    "num_tracks = 50\n",
    "df_trimmed = df.iloc[:, :(num_tracks * 2) + 1]  # +1 to include caseID column\n",
    "\n",
    "new_num_features = num_tracks * 2\n",
    "# Save the trimmed dataframe to a new CSV file\n",
    "df_trimmed.to_csv(f\"/DATA1/rzhou/ika/multi_testcases/{Dtype}/reduced/{Dtype}_map{n:02d}_interval100_seq1000_reduced_nfea{new_num_features}.csv\", index=False)\n"
   ]
  },
  {
   "cell_type": "code",
   "execution_count": 2,
   "metadata": {},
   "outputs": [],
   "source": [
    "import pandas as pd\n",
    "\n",
    "Dtype = \"rounD\"\n",
    "# Map of n to its corresponding num_feature\n",
    "num_features_map = {\n",
    "    2: 80,\n",
    "    3: 78,\n",
    "    4: 72,\n",
    "    5: 74,\n",
    "    6: 72,\n",
    "    7: 70,\n",
    "    8: 68\n",
    "}\n",
    "seq_length=500\n",
    "\n",
    "for n in range(2, 9):\n",
    "    # Retrieve the correct num_feature for the current n\n",
    "    num_feature = num_features_map[n]\n",
    "    \n",
    "    # Read the CSV file\n",
    "    df = pd.read_csv(f\"/DATA1/rzhou/ika/multi_testcases/{Dtype}/ori/seq{seq_length}/{Dtype}_map{n:02d}_interval100_seq{seq_length}_nfea{num_feature}.csv\")\n",
    "\n",
    "    # Assuming you want to keep columns related to 50 tracks (100 columns for x and y + 1 for caseID)\n",
    "    num_tracks = 15\n",
    "    df_trimmed = df.iloc[:, :(num_tracks * 2) + 1]  # +1 to include caseID column\n",
    "\n",
    "    new_num_features = num_tracks * 2\n",
    "    # Save the trimmed dataframe to a new CSV file\n",
    "    df_trimmed.to_csv(f\"/DATA1/rzhou/ika/multi_testcases/{Dtype}/reduced/nfea{new_num_features}/{Dtype}_map{n:02d}_interval100_seq{seq_length}_reduced_nfea{new_num_features}.csv\", index=False)\n"
   ]
  },
  {
   "cell_type": "code",
   "execution_count": 3,
   "metadata": {},
   "outputs": [
    {
     "data": {
      "text/plain": [
       "(1779000, 101)"
      ]
     },
     "execution_count": 3,
     "metadata": {},
     "output_type": "execute_result"
    }
   ],
   "source": [
    "# Assuming you're asking for a code snippet to read the specified CSV file into a pandas DataFrame.\n",
    "import pandas as pd\n",
    "\n",
    "# Specify the path to your CSV file\n",
    "csv_file_path = \"/DATA1/rzhou/ika/multi_testcases/rounD/reduced/nfea100/rounD_map02-08_interval100_seq1000_reduced_nfea100.csv\"\n",
    "\n",
    "# Read the CSV file into a DataFrame\n",
    "df = pd.read_csv(csv_file_path)\n",
    "\n",
    "# Display the first few rows of the DataFrame to confirm it's loaded correctly\n",
    "df.shape\n"
   ]
  },
  {
   "cell_type": "code",
   "execution_count": null,
   "metadata": {},
   "outputs": [],
   "source": []
  }
 ],
 "metadata": {
  "kernelspec": {
   "display_name": "base",
   "language": "python",
   "name": "python3"
  },
  "language_info": {
   "codemirror_mode": {
    "name": "ipython",
    "version": 3
   },
   "file_extension": ".py",
   "mimetype": "text/x-python",
   "name": "python",
   "nbconvert_exporter": "python",
   "pygments_lexer": "ipython3",
   "version": "3.11.8"
  }
 },
 "nbformat": 4,
 "nbformat_minor": 2
}
