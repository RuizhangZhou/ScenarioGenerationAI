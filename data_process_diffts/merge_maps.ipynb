{
 "cells": [
  {
   "cell_type": "code",
   "execution_count": 2,
   "metadata": {},
   "outputs": [],
   "source": [
    "import pandas as pd\n",
    "import os\n",
    "import numpy as np\n",
    "\n",
    "def merge_csv_files(folder_path):\n",
    "    csv_files = [os.path.join(folder_path, file) for file in os.listdir(folder_path) if file.endswith('.csv')]\n",
    "    merged_df = pd.DataFrame()\n",
    "    current_case_id = 1\n",
    "    \n",
    "    for file_path in csv_files:\n",
    "        df = pd.read_csv(file_path)\n",
    "        \n",
    "        # 假设每个case包含1000行\n",
    "        rows_per_case = 1000\n",
    "        num_cases_in_file = len(df) // rows_per_case\n",
    "        \n",
    "        # 更新caseID\n",
    "        new_case_ids = np.repeat(range(current_case_id, current_case_id + num_cases_in_file), rows_per_case)\n",
    "        df['caseID'] = new_case_ids[:len(df)]  # 防止长度不匹配\n",
    "        \n",
    "        current_case_id += num_cases_in_file\n",
    "        \n",
    "        merged_df = pd.concat([merged_df, df], ignore_index=True)\n",
    "    \n",
    "    merged_df.to_csv(os.path.join(folder_path, 'merged_cases.csv'), index=False)\n",
    "\n",
    "folder_path = '/DATA1/rzhou/ika/multi_testcases/rounD/reduced/nfea60'\n",
    "merge_csv_files(folder_path)\n"
   ]
  },
  {
   "cell_type": "code",
   "execution_count": null,
   "metadata": {},
   "outputs": [],
   "source": []
  }
 ],
 "metadata": {
  "kernelspec": {
   "display_name": "base",
   "language": "python",
   "name": "python3"
  },
  "language_info": {
   "codemirror_mode": {
    "name": "ipython",
    "version": 3
   },
   "file_extension": ".py",
   "mimetype": "text/x-python",
   "name": "python",
   "nbconvert_exporter": "python",
   "pygments_lexer": "ipython3",
   "version": "3.11.8"
  }
 },
 "nbformat": 4,
 "nbformat_minor": 2
}
