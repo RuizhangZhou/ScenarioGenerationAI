{
 "cells": [
  {
   "cell_type": "code",
   "execution_count": 1,
   "id": "ed7fbbfc",
   "metadata": {},
   "outputs": [],
   "source": [
    "import numpy as np\n",
    "import pandas as pd"
   ]
  },
  {
   "cell_type": "code",
   "execution_count": 6,
   "id": "5b4ad9de",
   "metadata": {},
   "outputs": [],
   "source": [
    "def get_largest_id(Dtype,n):\n",
    "    tracks_np = pd.read_csv(\"testcases/%(Dtype)s/cases/%(n)03d_testcases.csv\" %{'Dtype':Dtype,'n':n}).values\n",
    "    return tracks_np[-1][0]"
   ]
  },
  {
   "cell_type": "code",
   "execution_count": 7,
   "id": "19d1e5f3",
   "metadata": {},
   "outputs": [],
   "source": [
    "max=0\n",
    "for n in range(1,17):\n",
    "    cur=get_largest_id(\"inD\",n)\n",
    "    if cur>max:\n",
    "        max=cur"
   ]
  },
  {
   "cell_type": "code",
   "execution_count": 8,
   "id": "b64103a2",
   "metadata": {},
   "outputs": [
    {
     "data": {
      "text/plain": [
       "26.0"
      ]
     },
     "execution_count": 8,
     "metadata": {},
     "output_type": "execute_result"
    }
   ],
   "source": [
    "max"
   ]
  },
  {
   "cell_type": "code",
   "execution_count": 21,
   "id": "9db4e831",
   "metadata": {},
   "outputs": [
    {
     "name": "stderr",
     "output_type": "stream",
     "text": [
      "/tmp/ipykernel_115722/2172376894.py:1: DtypeWarning: Columns (0,1,2,3) have mixed types. Specify dtype option on import or set low_memory=False.\n",
      "  tracks_np = pd.read_csv(\"testcases/%(Dtype)s/%(Dtype)s_%(n)02d_testcases_vehicles_test.csv\" %{'Dtype':\"inD\",'Dtype':\"inD\",'n':1}).values\n"
     ]
    },
    {
     "data": {
      "text/plain": [
       "'1'"
      ]
     },
     "execution_count": 21,
     "metadata": {},
     "output_type": "execute_result"
    }
   ],
   "source": [
    "tracks_np = pd.read_csv(\"testcases/%(Dtype)s/%(Dtype)s_%(n)02d_testcases_vehicles_test.csv\" %{'Dtype':\"inD\",'Dtype':\"inD\",'n':1}).values\n",
    "tracks_np[0][0]"
   ]
  },
  {
   "cell_type": "code",
   "execution_count": 20,
   "id": "c49f6c0f",
   "metadata": {},
   "outputs": [
    {
     "data": {
      "text/plain": [
       "153207"
      ]
     },
     "execution_count": 20,
     "metadata": {},
     "output_type": "execute_result"
    }
   ],
   "source": [
    "len(tracks_np)"
   ]
  },
  {
   "cell_type": "code",
   "execution_count": 24,
   "id": "42f3dc0f",
   "metadata": {},
   "outputs": [
    {
     "data": {
      "text/plain": [
       "array(['1', '0', '132.044570', '-31.993250'], dtype=object)"
      ]
     },
     "execution_count": 24,
     "metadata": {},
     "output_type": "execute_result"
    }
   ],
   "source": [
    "tracks_np[0]"
   ]
  },
  {
   "cell_type": "code",
   "execution_count": 25,
   "id": "29f6c00d",
   "metadata": {},
   "outputs": [
    {
     "name": "stdout",
     "output_type": "stream",
     "text": [
      "76519\n"
     ]
    }
   ],
   "source": [
    "for row in range(len(tracks_np)):\n",
    "    if(tracks_np[row][0]==\"trackID\"):\n",
    "        print(row)"
   ]
  },
  {
   "cell_type": "code",
   "execution_count": null,
   "id": "fbbf9045",
   "metadata": {},
   "outputs": [],
   "source": [
    "for \n",
    "os.remove(\"testcases/%(Dtype)s/%(Dtype)s_%(n)02d_testcases_vehicles_test.csv\" %{'Dtype':Dtype,'Dtype':Dtype,'n':n})"
   ]
  }
 ],
 "metadata": {
  "kernelspec": {
   "display_name": "base",
   "language": "python",
   "name": "base"
  },
  "language_info": {
   "codemirror_mode": {
    "name": "ipython",
    "version": 3
   },
   "file_extension": ".py",
   "mimetype": "text/x-python",
   "name": "python",
   "nbconvert_exporter": "python",
   "pygments_lexer": "ipython3",
   "version": "3.11.5"
  }
 },
 "nbformat": 4,
 "nbformat_minor": 5
}
