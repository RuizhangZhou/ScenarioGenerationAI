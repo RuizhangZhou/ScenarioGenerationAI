{
 "cells": [
  {
   "cell_type": "code",
   "execution_count": 20,
   "id": "0cb67d5a",
   "metadata": {},
   "outputs": [],
   "source": [
    "import shutil\n",
    "import os"
   ]
  },
  {
   "cell_type": "code",
   "execution_count": 21,
   "id": "0a1c4f06",
   "metadata": {},
   "outputs": [],
   "source": [
    "def move_full(i):\n",
    "    path = \"/home/rzhou/Projects/generating-models-for-test-cases/scenariogenerationai/testcases/inD/cases/%(i)02d\" %{\n",
    "        'i':i\n",
    "    }\n",
    "    filenames = os.listdir(path)\n",
    "    newpath='/home/rzhou/Projects/generating-models-for-test-cases/scenariogenerationai/testcases/inD/full_cases/%(i)02d'%{\n",
    "        'i':i\n",
    "    }\n",
    "    os.makedirs(newpath)\n",
    "    for n in filenames:\n",
    "        #判断如果文件名包含full就移动\n",
    "        if 'full' in n:\n",
    "            oldpath=\"/home/rzhou/Projects/generating-models-for-test-cases/scenariogenerationai/testcases/inD/cases/%(i)02d/%(n)s\" %{\n",
    "        'i':i, 'n':n}\n",
    "            shutil.move(oldpath, newpath)"
   ]
  },
  {
   "cell_type": "code",
   "execution_count": 22,
   "id": "bc19d558",
   "metadata": {},
   "outputs": [],
   "source": [
    "for i in range(33):\n",
    "    move_full(i)"
   ]
  },
  {
   "cell_type": "code",
   "execution_count": null,
   "id": "93a3005e",
   "metadata": {},
   "outputs": [],
   "source": []
  }
 ],
 "metadata": {
  "kernelspec": {
   "display_name": "greaselm",
   "language": "python",
   "name": "greaselm"
  },
  "language_info": {
   "codemirror_mode": {
    "name": "ipython",
    "version": 3
   },
   "file_extension": ".py",
   "mimetype": "text/x-python",
   "name": "python",
   "nbconvert_exporter": "python",
   "pygments_lexer": "ipython3",
   "version": "3.8.18"
  }
 },
 "nbformat": 4,
 "nbformat_minor": 5
}
