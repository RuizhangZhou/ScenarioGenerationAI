{
 "cells": [
  {
   "cell_type": "code",
   "execution_count": 26,
   "id": "4d945b88",
   "metadata": {},
   "outputs": [],
   "source": [
    "import numpy as np\n",
    "import pandas as pd\n",
    "import os"
   ]
  },
  {
   "cell_type": "code",
   "execution_count": 51,
   "id": "972b6376",
   "metadata": {},
   "outputs": [],
   "source": [
    "def get_largest_id(Dtype,n):\n",
    "    case_id=1\n",
    "    max=0\n",
    "    while(os.path.exists(\"testcases/%(Dtype)s/cases/%(n)02d/%(case_id)03d_testcases.csv\" %{'Dtype':Dtype,'n':n,'case_id':case_id})):\n",
    "        path=\"testcases/%(Dtype)s/cases/%(n)02d/%(case_id)03d_testcases.csv\" %{'Dtype':Dtype,'n':n,'case_id':case_id}\n",
    "        tracks_np = pd.read_csv(path).values\n",
    "        if(max<tracks_np[-1][0]):\n",
    "            max=tracks_np[-1][0]\n",
    "        case_id+=1\n",
    "    print(\"%(n)d:%(max)d\" %{'n':n,'max':max})\n",
    "    return max"
   ]
  },
  {
   "cell_type": "code",
   "execution_count": 52,
   "id": "2ab1fdc7",
   "metadata": {},
   "outputs": [
    {
     "name": "stdout",
     "output_type": "stream",
     "text": [
      "0:26\n",
      "1:24\n",
      "2:29\n",
      "3:24\n",
      "4:22\n",
      "5:22\n",
      "6:29\n",
      "7:22\n",
      "8:24\n",
      "9:21\n",
      "10:24\n",
      "11:25\n",
      "12:28\n",
      "13:22\n",
      "14:27\n",
      "15:22\n",
      "16:25\n",
      "17:26\n",
      "18:23\n",
      "19:23\n",
      "20:29\n",
      "21:27\n",
      "22:30\n",
      "23:26\n",
      "24:24\n",
      "25:27\n",
      "26:28\n",
      "27:22\n",
      "28:27\n",
      "29:24\n",
      "30:30\n",
      "31:27\n"
     ]
    },
    {
     "data": {
      "text/plain": [
       "30.0"
      ]
     },
     "execution_count": 52,
     "metadata": {},
     "output_type": "execute_result"
    }
   ],
   "source": [
    "max=0\n",
    "for n in range(32):\n",
    "    cur=get_largest_id(\"inD\",n)\n",
    "    if cur>max:\n",
    "        max=cur\n",
    "max"
   ]
  },
  {
   "cell_type": "code",
   "execution_count": null,
   "id": "c71490a8",
   "metadata": {},
   "outputs": [],
   "source": [
    "max"
   ]
  },
  {
   "cell_type": "code",
   "execution_count": 21,
   "id": "be280a65",
   "metadata": {},
   "outputs": [
    {
     "name": "stderr",
     "output_type": "stream",
     "text": [
      "/tmp/ipykernel_115722/2172376894.py:1: DtypeWarning: Columns (0,1,2,3) have mixed types. Specify dtype option on import or set low_memory=False.\n",
      "  tracks_np = pd.read_csv(\"testcases/%(Dtype)s/%(Dtype)s_%(n)02d_testcases_vehicles_test.csv\" %{'Dtype':\"inD\",'Dtype':\"inD\",'n':1}).values\n"
     ]
    },
    {
     "data": {
      "text/plain": [
       "'1'"
      ]
     },
     "execution_count": 21,
     "metadata": {},
     "output_type": "execute_result"
    }
   ],
   "source": [
    "tracks_np = pd.read_csv(\"testcases/%(Dtype)s/%(Dtype)s_%(n)02d_testcases_vehicles_test.csv\" %{'Dtype':\"inD\",'Dtype':\"inD\",'n':1}).values\n",
    "tracks_np[0][0]"
   ]
  },
  {
   "cell_type": "code",
   "execution_count": 20,
   "id": "00a0de29",
   "metadata": {},
   "outputs": [
    {
     "data": {
      "text/plain": [
       "153207"
      ]
     },
     "execution_count": 20,
     "metadata": {},
     "output_type": "execute_result"
    }
   ],
   "source": [
    "len(tracks_np)"
   ]
  },
  {
   "cell_type": "code",
   "execution_count": 24,
   "id": "6a600419",
   "metadata": {},
   "outputs": [
    {
     "data": {
      "text/plain": [
       "array(['1', '0', '132.044570', '-31.993250'], dtype=object)"
      ]
     },
     "execution_count": 24,
     "metadata": {},
     "output_type": "execute_result"
    }
   ],
   "source": [
    "tracks_np[0]"
   ]
  },
  {
   "cell_type": "code",
   "execution_count": 25,
   "id": "8d86497e",
   "metadata": {},
   "outputs": [
    {
     "name": "stdout",
     "output_type": "stream",
     "text": [
      "76519\n"
     ]
    }
   ],
   "source": [
    "for row in range(len(tracks_np)):\n",
    "    if(tracks_np[row][0]==\"trackID\"):\n",
    "        print(row)"
   ]
  },
  {
   "cell_type": "code",
   "execution_count": null,
   "id": "b73a0925",
   "metadata": {},
   "outputs": [],
   "source": [
    "for \n",
    "os.remove(\"testcases/%(Dtype)s/%(Dtype)s_%(n)02d_testcases_vehicles_test.csv\" %{'Dtype':Dtype,'Dtype':Dtype,'n':n})"
   ]
  }
 ],
 "metadata": {
  "kernelspec": {
   "display_name": "base",
   "language": "python",
   "name": "base"
  },
  "language_info": {
   "codemirror_mode": {
    "name": "ipython",
    "version": 3
   },
   "file_extension": ".py",
   "mimetype": "text/x-python",
   "name": "python",
   "nbconvert_exporter": "python",
   "pygments_lexer": "ipython3",
   "version": "3.11.5"
  }
 },
 "nbformat": 4,
 "nbformat_minor": 5
}
