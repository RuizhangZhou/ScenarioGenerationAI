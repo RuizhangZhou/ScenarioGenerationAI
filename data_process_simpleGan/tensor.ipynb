{
 "cells": [
  {
   "cell_type": "code",
   "execution_count": 1,
   "id": "89ff07bc",
   "metadata": {},
   "outputs": [],
   "source": [
    "import torch\n",
    "import numpy as np"
   ]
  },
  {
   "cell_type": "code",
   "execution_count": 7,
   "id": "adb2897f",
   "metadata": {},
   "outputs": [],
   "source": [
    "numpy_array= np.array([1,2,3])\n",
    "torch_tensor1 = torch.from_numpy(numpy_array)\n",
    "torch_tensor2 = torch.Tensor(numpy_array)\n",
    "torch_tensor3 = torch.tensor(numpy_array)"
   ]
  },
  {
   "cell_type": "code",
   "execution_count": 8,
   "id": "d83c8918",
   "metadata": {},
   "outputs": [
    {
     "data": {
      "text/plain": [
       "tensor([1, 2, 3])"
      ]
     },
     "execution_count": 8,
     "metadata": {},
     "output_type": "execute_result"
    }
   ],
   "source": [
    "torch_tensor1"
   ]
  },
  {
   "cell_type": "code",
   "execution_count": 9,
   "id": "48a65515",
   "metadata": {},
   "outputs": [
    {
     "data": {
      "text/plain": [
       "tensor([1., 2., 3.])"
      ]
     },
     "execution_count": 9,
     "metadata": {},
     "output_type": "execute_result"
    }
   ],
   "source": [
    "torch_tensor2"
   ]
  },
  {
   "cell_type": "code",
   "execution_count": 12,
   "id": "441de73e",
   "metadata": {},
   "outputs": [
    {
     "data": {
      "text/plain": [
       "tensor([1, 2, 3])"
      ]
     },
     "execution_count": 12,
     "metadata": {},
     "output_type": "execute_result"
    }
   ],
   "source": [
    "torch_tensor3"
   ]
  },
  {
   "cell_type": "code",
   "execution_count": 13,
   "id": "d6348b91",
   "metadata": {},
   "outputs": [],
   "source": [
    "a = [1,2,3]\n",
    "torch_tensor1 = torch.tensor(a)\n",
    "a1 = (1,2,3)\n",
    "torch_tensor2  = torch.tensor(a1)"
   ]
  }
 ],
 "metadata": {
  "kernelspec": {
   "display_name": "greaselm",
   "language": "python",
   "name": "greaselm"
  },
  "language_info": {
   "codemirror_mode": {
    "name": "ipython",
    "version": 3
   },
   "file_extension": ".py",
   "mimetype": "text/x-python",
   "name": "python",
   "nbconvert_exporter": "python",
   "pygments_lexer": "ipython3",
   "version": "3.8.18"
  }
 },
 "nbformat": 4,
 "nbformat_minor": 5
}
