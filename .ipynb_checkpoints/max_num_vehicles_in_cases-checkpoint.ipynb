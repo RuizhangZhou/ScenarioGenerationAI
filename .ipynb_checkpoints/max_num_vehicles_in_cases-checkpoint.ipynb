{
 "cells": [
  {
   "cell_type": "code",
   "execution_count": 1,
   "id": "24bb3693",
   "metadata": {},
   "outputs": [],
   "source": [
    "import numpy as np\n",
    "import pandas as pd"
   ]
  },
  {
   "cell_type": "code",
   "execution_count": null,
   "id": "69d1f2fd",
   "metadata": {},
   "outputs": [],
   "source": [
    "def get_largest_id(Dtype,n):\n",
    "    tracks_np = pd.read_csv(\"testcases/%(Dtype)s/cases/%(n)02d_testcases.csv\" %{'Dtype':Dtype,'n':n}).values\n",
    "    return tracks_np[-1][0]"
   ]
  }
 ],
 "metadata": {
  "kernelspec": {
   "display_name": "base",
   "language": "python",
   "name": "base"
  },
  "language_info": {
   "codemirror_mode": {
    "name": "ipython",
    "version": 3
   },
   "file_extension": ".py",
   "mimetype": "text/x-python",
   "name": "python",
   "nbconvert_exporter": "python",
   "pygments_lexer": "ipython3",
   "version": "3.11.5"
  }
 },
 "nbformat": 4,
 "nbformat_minor": 5
}
