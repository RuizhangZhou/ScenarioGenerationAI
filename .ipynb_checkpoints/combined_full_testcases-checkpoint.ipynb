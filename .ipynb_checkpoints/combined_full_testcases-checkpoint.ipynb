{
 "cells": [
  {
   "cell_type": "code",
   "execution_count": null,
   "id": "6e526dd8",
   "metadata": {},
   "outputs": [],
   "source": [
    "import torch\n",
    "import pandas as pd\n",
    "import os\n",
    "\n",
    "# 输入图片所在文件夹\n",
    "# 读取CSV文件\n",
    "def read_csv_file(file_path):\n",
    "    df = pd.read_csv(file_path)\n",
    "    return df\n",
    "\n",
    "def get_all_file_paths(folder_path):\n",
    "    all_file_paths = []\n",
    "    for root, dirs, files in os.walk(folder_path):\n",
    "        for file in files:\n",
    "            file_path = os.path.abspath(os.path.join(root, file))\n",
    "            all_file_paths.append(file_path)\n",
    "    return all_file_paths\n",
    "\n",
    "folder_path = '/DATA1/rzhou/ika/testcases/inD/full_cases'  # 替换为你的文件夹路径\n",
    "file_paths = get_all_file_paths(folder_path)\n",
    "print(file_paths)\n",
    "\n",
    "\n",
    "# 读取所有CSV文件\n",
    "n = len(file_paths)  # 假设有n个文件\n",
    "datasets = [read_csv_file(file_path) for file_path in file_paths]\n",
    "# 合并数据集\n",
    "combined_data = torch.cat([torch.tensor(df.values) for df in datasets])\n",
    "# 重塑数据集维度\n",
    "combined_data = combined_data.view(n, 45030, 4)\n",
    "\n",
    "torch.save(combined_data, '/DATA1/rzhou/ika/testcases/inD/inD_full_cases.pt')"
   ]
  }
 ],
 "metadata": {
  "kernelspec": {
   "display_name": "greaselm",
   "language": "python",
   "name": "greaselm"
  },
  "language_info": {
   "codemirror_mode": {
    "name": "ipython",
    "version": 3
   },
   "file_extension": ".py",
   "mimetype": "text/x-python",
   "name": "python",
   "nbconvert_exporter": "python",
   "pygments_lexer": "ipython3",
   "version": "3.8.18"
  }
 },
 "nbformat": 4,
 "nbformat_minor": 5
}
