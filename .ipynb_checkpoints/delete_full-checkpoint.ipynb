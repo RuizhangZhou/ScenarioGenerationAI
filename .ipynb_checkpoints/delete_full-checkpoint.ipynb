{
 "cells": [
  {
   "cell_type": "code",
   "execution_count": 2,
   "id": "c9631072",
   "metadata": {},
   "outputs": [],
   "source": [
    "import numpy as np\n",
    "import pandas as pd"
   ]
  },
  {
   "cell_type": "code",
   "execution_count": 3,
   "id": "dcf200ca",
   "metadata": {},
   "outputs": [],
   "source": [
    "cases_np = pd.read_csv('/home/rzhou/Projects/generating-models-for-test-cases/scenariogenerationai/testcases/inD/cases/00/001_testcases.csv').values"
   ]
  },
  {
   "cell_type": "code",
   "execution_count": 4,
   "id": "7d812934",
   "metadata": {},
   "outputs": [
    {
     "data": {
      "text/plain": [
       "array([  18.     , 1371.     ,   57.30352,  -95.54519])"
      ]
     },
     "execution_count": 4,
     "metadata": {},
     "output_type": "execute_result"
    }
   ],
   "source": [
    "cases_np[-1]"
   ]
  },
  {
   "cell_type": "code",
   "execution_count": null,
   "id": "e168d82b",
   "metadata": {},
   "outputs": [],
   "source": [
    "#coding:utf-8\n",
    "import os\n",
    "\n",
    "def delete():\n",
    "    filePath = '/home/rzhou/Projects/generating-models-for-test-cases/scenariogenerationai/testcases/inD/cases'\n",
    "    name = os.listdir(filePath)\n",
    "    #打印所指定文件夹内的所包含 的文件数  文件名\n",
    "    print(len(name))\n",
    "    print(name)\n",
    "#     for i in name:\n",
    "#         path = 'C:\\\\3\\\\{}'.format(i)\n",
    "#         print(path)\n",
    "#         #！！！判断如果文件名包含anzw 就删除\n",
    "#         if 'anzw' in i:\n",
    "#             os.remove(path)"
   ]
  },
  {
   "cell_type": "code",
   "execution_count": null,
   "id": "27f51816",
   "metadata": {},
   "outputs": [],
   "source": [
    "delete()"
   ]
  }
 ],
 "metadata": {
  "kernelspec": {
   "display_name": "greaselm",
   "language": "python",
   "name": "greaselm"
  },
  "language_info": {
   "codemirror_mode": {
    "name": "ipython",
    "version": 3
   },
   "file_extension": ".py",
   "mimetype": "text/x-python",
   "name": "python",
   "nbconvert_exporter": "python",
   "pygments_lexer": "ipython3",
   "version": "3.8.18"
  }
 },
 "nbformat": 4,
 "nbformat_minor": 5
}
