{
 "cells": [
  {
   "cell_type": "code",
   "execution_count": 2,
   "id": "d29bab67",
   "metadata": {},
   "outputs": [],
   "source": [
    "import numpy as np\n",
    "import pandas as pd\n",
    "import os\n",
    "import csv"
   ]
  },
  {
   "cell_type": "code",
   "execution_count": null,
   "id": "ed1b8892",
   "metadata": {},
   "outputs": [],
   "source": [
    "#tracks_np = pd.read_csv(\"/DATA1/rzhou/ika/%(Dtype)s/data/%(n)02d_tracks.csv\" %{'Dtype':Dtype,'n':n}).values"
   ]
  },
  {
   "cell_type": "code",
   "execution_count": 7,
   "id": "266f711f",
   "metadata": {},
   "outputs": [
    {
     "name": "stdout",
     "output_type": "stream",
     "text": [
      "[0, 2, 3, 7, 8, 9, 10, 11, 12, 13, 14, 15, 16, 17, 18, 19, 20, 21, 22, 23, 24, 25, 26, 27, 28, 29, 30, 31, 32, 33, 34, 35, 36, 37, 38, 39, 40, 41, 42, 43, 44, 45, 46, 47, 48, 49, 50, 51, 52, 53, 54, 55, 56, 57, 58, 59, 60, 61, 62, 63, 64, 65, 66, 67, 68, 69, 70, 71, 72, 73, 74, 75, 76, 77, 78, 79, 80, 81, 82, 83, 84, 85, 86, 87, 88, 89, 90, 91, 92, 93, 94, 95, 96, 97, 98, 99, 100, 101, 102, 103, 104, 105, 106, 107, 108, 109, 110, 111, 112, 113, 114, 115, 116, 117, 118, 119, 120, 121, 122, 123, 124, 125, 126, 127, 130, 131, 132, 133, 134, 135, 136, 137, 138, 139, 140, 141, 142, 143, 144, 145, 146, 147, 148, 149, 150, 151, 152, 153, 154, 155, 156, 157, 158, 159, 160, 161, 162, 163, 164, 165, 166, 167, 168, 169, 170, 171, 172, 173, 174, 175, 176, 177, 178, 179, 180, 181, 182, 183, 184, 185, 186, 187, 188, 189, 190, 191, 192, 193, 194, 195, 196, 197, 198, 199, 200, 201, 202, 204, 205, 206, 207, 208, 209, 210, 211, 212, 213, 214, 215, 216, 217, 218, 220, 221, 222, 223, 224, 225, 226, 227, 228, 229, 230, 231, 232, 233, 234, 235, 236, 237, 238, 239, 240, 242, 243, 244, 245, 246, 247, 248, 249, 250, 251, 252, 253, 254, 255, 256, 257, 258, 259, 260, 261, 262, 263, 264, 265, 266, 267, 268, 269, 270, 271, 272, 273, 274, 275, 276, 277, 278, 279, 280, 281, 282, 283, 284, 285, 286, 287, 288, 289, 290, 291, 292, 293, 294, 295, 296, 297, 298, 299, 300, 301, 302, 303, 304, 305, 306, 307, 308, 309, 310, 311, 312, 313, 314, 315, 316, 317, 318, 319, 320, 321, 322, 323, 324, 325, 326, 327, 328, 329, 330, 331, 332, 333, 334, 335, 336, 337, 338, 339, 340, 341, 342, 343, 344, 345, 346, 347, 348, 349, 350, 351, 352, 353, 354, 355, 356, 357, 358, 359, 360, 361, 362, 363, 364, 365, 366, 367, 368, 369, 370, 371, 372, 373, 374, 375, 376, 377, 378, 379, 380, 381, 382, 383, 384]\n"
     ]
    }
   ],
   "source": [
    "Dtype=\"inD\" \n",
    "n=1\n",
    "trackId_list=[]\n",
    "with open(\"/DATA1/rzhou/ika/%(Dtype)s/data/%(n)02d_tracksMeta.csv\" %{'Dtype':Dtype,'n':n}, mode='r') as f_tracksMeta:\n",
    "    # 创建csv.reader对象\n",
    "    tracksMeta_dict_reader = csv.DictReader(f_tracksMeta)\n",
    "\n",
    "    # 逐行读取CSV文件\n",
    "    for row in tracksMeta_dict_reader:\n",
    "        numFrames=int(row[\"numFrames\"])\n",
    "        if numFrames>0 and numFrames<1500:\n",
    "            if Dtype==\"highD\":\n",
    "                trackId_list.append(int(row[\"id\"]))\n",
    "            else:\n",
    "                trackId_list.append(int(row[\"trackId\"]))\n",
    "        # row是一个列表，包含了当前行的所有数据\n",
    "print(trackId_list) "
   ]
  },
  {
   "cell_type": "code",
   "execution_count": 8,
   "id": "4ecdb6f7",
   "metadata": {},
   "outputs": [],
   "source": [
    "with open(\"/DATA1/rzhou/ika/single_testcases/%(Dtype)s_single.csv\" %{'Dtype':Dtype}, \"w\") as f_single:\n",
    "    f_single.truncate(0)\n",
    "    f_single.write(\"trackID,x,y\\n\")"
   ]
  },
  {
   "cell_type": "code",
   "execution_count": 15,
   "id": "7d42aa6e",
   "metadata": {},
   "outputs": [
    {
     "name": "stdout",
     "output_type": "stream",
     "text": [
      "0\n",
      "1\n",
      "2\n",
      "3\n",
      "4\n",
      "5\n",
      "6\n",
      "7\n",
      "8\n",
      "9\n",
      "10\n",
      "11\n",
      "12\n",
      "13\n",
      "14\n",
      "15\n",
      "16\n",
      "17\n",
      "18\n",
      "19\n",
      "20\n",
      "21\n",
      "22\n",
      "23\n",
      "24\n",
      "25\n",
      "26\n",
      "27\n"
     ]
    },
    {
     "ename": "TypeError",
     "evalue": "float() argument must be a string or a real number, not 'NoneType'",
     "output_type": "error",
     "traceback": [
      "\u001b[0;31m---------------------------------------------------------------------------\u001b[0m",
      "\u001b[0;31mTypeError\u001b[0m                                 Traceback (most recent call last)",
      "Cell \u001b[0;32mIn[15], line 38\u001b[0m\n\u001b[1;32m     36\u001b[0m     trackId\u001b[38;5;241m=\u001b[39m\u001b[38;5;28mint\u001b[39m(row[\u001b[38;5;124m\"\u001b[39m\u001b[38;5;124mtrackId\u001b[39m\u001b[38;5;124m\"\u001b[39m])\n\u001b[1;32m     37\u001b[0m     x\u001b[38;5;241m=\u001b[39m\u001b[38;5;28mfloat\u001b[39m(row[\u001b[38;5;124m\"\u001b[39m\u001b[38;5;124mxCenter\u001b[39m\u001b[38;5;124m\"\u001b[39m])\n\u001b[0;32m---> 38\u001b[0m     y\u001b[38;5;241m=\u001b[39m\u001b[38;5;28mfloat\u001b[39m(row[\u001b[38;5;124m\"\u001b[39m\u001b[38;5;124myCenter\u001b[39m\u001b[38;5;124m\"\u001b[39m])\n\u001b[1;32m     39\u001b[0m \u001b[38;5;28;01mif\u001b[39;00m trackId \u001b[38;5;129;01min\u001b[39;00m trackId_list:\n\u001b[1;32m     40\u001b[0m     \u001b[38;5;28;01mif\u001b[39;00m trackId\u001b[38;5;241m!=\u001b[39mcurId:\n",
      "\u001b[0;31mTypeError\u001b[0m: float() argument must be a string or a real number, not 'NoneType'"
     ]
    }
   ],
   "source": [
    "cur_id_single=0\n",
    "Dtype=\"exiD\"\n",
    "with open(\"/DATA1/rzhou/ika/single_testcases/%(Dtype)s_single.csv\" %{'Dtype':Dtype}, \"w\") as f_single:\n",
    "    f_single.truncate(0)\n",
    "    f_single.write(\"trackID,x,y\\n\")\n",
    "for n in range(93):\n",
    "    print(n)\n",
    "    trackId_list=[]\n",
    "    with open(\"/DATA1/rzhou/ika/%(Dtype)s/data/%(n)02d_tracksMeta.csv\" %{'Dtype':Dtype,'n':n}, mode='r') as f_tracksMeta:\n",
    "        # 创建csv.reader对象\n",
    "        tracksMeta_dict_reader = csv.DictReader(f_tracksMeta)\n",
    "\n",
    "        # 逐行读取CSV文件\n",
    "        for row in tracksMeta_dict_reader:\n",
    "            numFrames=int(row[\"numFrames\"])\n",
    "            if numFrames>0 and numFrames<1500:\n",
    "                if Dtype==\"highD\":\n",
    "                    trackId_list.append(int(row[\"id\"]))\n",
    "                else:\n",
    "                    trackId_list.append(int(row[\"trackId\"]))\n",
    "            # row是一个列表，包含了当前行的所有数据\n",
    "    #print(trackId_list) \n",
    "\n",
    "    with open(\"/DATA1/rzhou/ika/single_testcases/%(Dtype)s_single.csv\" %{'Dtype':Dtype}, \"a\") as f_single,\\\n",
    "    open(\"/DATA1/rzhou/ika/%(Dtype)s/data/%(n)02d_tracks.csv\" %{'Dtype':Dtype,'n':n}, mode='r') as f_tracks:\n",
    "        # 创建csv.reader对象\n",
    "        tracks_dict_reader = csv.DictReader(f_tracks)\n",
    "        curId=-1\n",
    "        # 逐行读取CSV文件\n",
    "        for row in tracks_dict_reader:\n",
    "            if Dtype==\"highD\":\n",
    "                trackId=int(row[\"id\"])\n",
    "                x=float(row[\"x\"])\n",
    "                y=float(row[\"y\"])\n",
    "            else:\n",
    "                trackId=int(row[\"trackId\"])\n",
    "                try:\n",
    "                    x=float(row[\"xCenter\"])\n",
    "                    y=float(row[\"yCenter\"])\n",
    "                except TypeError:\n",
    "                    pass\n",
    "            if trackId in trackId_list:\n",
    "                if trackId!=curId:\n",
    "                    cur_id_single+=1\n",
    "                    f_single.write(\"%(id)d,%(x)f,%(y)f\\n\" %{'id':cur_id_single,'x':x,'y':y})\n",
    "                    curId=trackId\n",
    "                else:\n",
    "                    f_single.write(\"%(id)d,%(x)f,%(y)f\\n\" %{'id':cur_id_single,'x':x,'y':y})\n",
    "                \n",
    "            \n",
    "        "
   ]
  },
  {
   "cell_type": "code",
   "execution_count": null,
   "id": "5a5e5c10",
   "metadata": {},
   "outputs": [],
   "source": []
  },
  {
   "cell_type": "code",
   "execution_count": null,
   "id": "3e36e070",
   "metadata": {},
   "outputs": [],
   "source": [
    "\n",
    "with open(\"/DATA1/rzhou/ika/%(Dtype)s/data/%(n)02d_tracksMeta.csv\" %{'Dtype':Dtype,'n':n}, mode=\"r\", encoding=\"utf-8-sig\") as f_tracksMeta:\n",
    "    recording_reader = csv.reader(f_recording)\n",
    "    recording_header = next(recording_reader)\n",
    "    for row in recording_reader:\n",
    "        if Dtype==\"highD\":\n",
    "            #for highD\n",
    "            duration=float(row[7])\n",
    "            num_states=int(duration*float(row[1]))\n",
    "        else:\n",
    "            #for otherD\n",
    "            duration=float(row[6])\n",
    "            num_states=int(duration*float(row[2]))"
   ]
  },
  {
   "cell_type": "code",
   "execution_count": null,
   "id": "1cf13c83",
   "metadata": {},
   "outputs": [],
   "source": [
    "#clear the text first\n",
    "with open(\"/DATA1/rzhou/ika/single_testcases/%(Dtype)s_single.csv\" %{'Dtype':Dtype}, \"w\") as f:\n",
    "        f.truncate(0)"
   ]
  },
  {
   "cell_type": "code",
   "execution_count": null,
   "id": "f3284686",
   "metadata": {},
   "outputs": [],
   "source": [
    "with open(\"/DATA1/rzhou/ika/single_testcases/%(Dtype)s_single.csv\" %{'Dtype':Dtype}, \"w\") as f_single:"
   ]
  }
 ],
 "metadata": {
  "kernelspec": {
   "display_name": "base",
   "language": "python",
   "name": "base"
  },
  "language_info": {
   "codemirror_mode": {
    "name": "ipython",
    "version": 3
   },
   "file_extension": ".py",
   "mimetype": "text/x-python",
   "name": "python",
   "nbconvert_exporter": "python",
   "pygments_lexer": "ipython3",
   "version": "3.11.5"
  }
 },
 "nbformat": 4,
 "nbformat_minor": 5
}
