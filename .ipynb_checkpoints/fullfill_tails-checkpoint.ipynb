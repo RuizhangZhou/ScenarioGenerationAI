{
 "cells": [
  {
   "cell_type": "code",
   "execution_count": null,
   "id": "99ff62e4",
   "metadata": {},
   "outputs": [],
   "source": [
    "import os"
   ]
  },
  {
   "cell_type": "code",
   "execution_count": null,
   "id": "85ef10a7",
   "metadata": {},
   "outputs": [],
   "source": [
    "def getfiles(Dtype,n):\n",
    "    filenames=os.listdir('/home/rzhou/Projects/generating-models-for-test-cases/scenariogenerationai/testcases/%(Dtype)s/full_cases/%(n)02d' %{'Dtype':Dtype,'n':n})\n",
    "    # filenames=os.listdir('testcases/inD/cases/00' %{'Dtype':Dtype,'n':n})\n",
    "    return filenames"
   ]
  },
  {
   "cell_type": "code",
   "execution_count": null,
   "id": "958357dc",
   "metadata": {},
   "outputs": [],
   "source": [
    "def fullfill_tails(Dtype,n):\n",
    "    cases_files=getfiles(Dtype,n)\n",
    "    for case_file in cases_files:\n",
    "        cases_np = pd.read_csv(\"/home/rzhou/Projects/generating-models-for-test-cases/scenariogenerationai/testcases/%(Dtype)s/full_cases/%(n)02d/%(case_file)s\" %{'Dtype':Dtype,'n':n, 'case_file':case_file}).values\n",
    "        with open(\"/home/rzhou/Projects/generating-models-for-test-cases/scenariogenerationai/testcases/%(Dtype)s/full_cases/%(n)02d/%(case_file)s\" %{'Dtype':Dtype,'n':n,'case_file':case_file}, \"a\") as f_cases_full:\n",
    "            last_id=cases_np[-1][0]\n",
    "            for id in range(last_id+1,31):\n",
    "                for f in range(1501):\n",
    "                    f_cases_full.write(\"%(id)d,%(f)d,%(x)f,%(y)f\\n\" %{'id':id,'f':f,'x':0,'y':0})"
   ]
  },
  {
   "cell_type": "code",
   "execution_count": null,
   "id": "f412b83e",
   "metadata": {},
   "outputs": [],
   "source": [
    "for i in range(33):\n",
    "    fullfill_tails('inD',i)"
   ]
  }
 ],
 "metadata": {
  "kernelspec": {
   "display_name": "greaselm",
   "language": "python",
   "name": "greaselm"
  },
  "language_info": {
   "codemirror_mode": {
    "name": "ipython",
    "version": 3
   },
   "file_extension": ".py",
   "mimetype": "text/x-python",
   "name": "python",
   "nbconvert_exporter": "python",
   "pygments_lexer": "ipython3",
   "version": "3.8.18"
  }
 },
 "nbformat": 4,
 "nbformat_minor": 5
}
