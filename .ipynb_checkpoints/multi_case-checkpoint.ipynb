{
 "cells": [
  {
   "cell_type": "code",
   "execution_count": 2,
   "id": "adbd6813",
   "metadata": {},
   "outputs": [],
   "source": [
    "import numpy as np\n",
    "import pandas as pd\n",
    "import os\n",
    "import csv\n",
    "import math"
   ]
  },
  {
   "cell_type": "code",
   "execution_count": 3,
   "id": "12449117",
   "metadata": {},
   "outputs": [
    {
     "name": "stdout",
     "output_type": "stream",
     "text": [
      "24027.0\n",
      "384\n",
      "240\n"
     ]
    }
   ],
   "source": [
    "Dtype=\"inD\" \n",
    "n=0\n",
    "with open(\"/DATA1/rzhou/ika/%(Dtype)s/data/%(n)02d_recordingMeta.csv\" %{'Dtype':Dtype,'n':n}, mode='r') as f_recordingMeta:\n",
    "    recordingMeta_dict_reader = csv.DictReader(f_recordingMeta)\n",
    "    #虽然只有一行，但还是要用for来读recordingMeta_dict_reader\n",
    "    for row in recordingMeta_dict_reader:\n",
    "        numFramesCase = float(row[\"duration\"]) * float(row[\"frameRate\"])\n",
    "        numTracks=int(row[\"numTracks\"])\n",
    "        print(numFramesCase)\n",
    "        print(numTracks)\n",
    "        print(int(numFramesCase//100))"
   ]
  },
  {
   "cell_type": "code",
   "execution_count": 7,
   "id": "395a8614",
   "metadata": {},
   "outputs": [
    {
     "name": "stdout",
     "output_type": "stream",
     "text": [
      "[[0, 1, 2, 3], [0, 1, 3, 6, 7], [1, 3, 6, 7, 8], [1, 3, 6, 7, 8, 9, 10], [1, 3, 7], [3, 11], [3, 11, 12], [3, 12, 13, 14], [3, 13, 15], [3], [3, 16], [17, 18], [17, 19, 20], [17, 19], [19], [21], [22], [], [23, 24, 25], [25], [], [26, 27, 28], [26, 29], [26, 30], [26, 30, 31], [26, 30, 31, 32], [30, 31, 32], [30, 31, 32, 33], [30], [30, 34, 35, 36], [34, 35, 38, 39], [34, 35, 39, 40, 41, 42], [34, 35, 41, 43, 44, 45], [34, 41, 45, 46, 47], [34, 41, 45, 46], [41, 46, 48, 49], [46, 49], [50, 51], [51], [51, 52, 53, 54], [53, 54, 56], [56, 58, 59, 60], [56, 58, 61], [56, 61, 62], [56, 61, 63], [56, 61, 64], [64, 65], [64], [], [], [67], [67, 68, 69], [70], [72, 73], [73], [74, 75], [76, 77, 78], [76, 77, 79, 80], [76, 81, 82, 83], [76, 81, 83, 84, 85], [76, 81, 83, 84, 85, 86, 87], [83, 84, 85, 86, 88, 89], [83, 84, 85, 89], [83, 84, 90], [84, 90], [92], [92, 93], [92, 93, 94], [95, 96], [96, 97, 99], [96, 99, 101], [99], [], [103], [103, 104, 105], [104, 105, 106, 107, 108], [104, 107, 108, 109, 110], [107, 108, 109, 111, 112, 114, 115], [109, 112, 116], [109, 116, 117], [116, 119, 120, 121], [116, 122], [123], [124], [124, 125, 126], [127], [127, 128, 129], [129, 130], [129, 131, 132], [132, 133, 134, 135], [135, 136], [136, 139, 140, 141, 142], [139, 141, 142, 143], [139, 141, 142, 144, 145], [139, 141, 142, 145], [139, 141, 142, 146], [139, 142, 146, 148], [139, 149], [149], [151, 152, 154, 155, 156], [151, 152, 157, 158, 159, 160], [151, 157, 160], [157, 160], [157, 161, 162], [157, 162, 163], [157, 163, 164, 166], [163, 167, 168], [169, 170, 171], [169, 172], [], [173, 174, 175], [175], [], [176], [177], [177, 178], [177, 179], [177, 180, 181, 182], [180, 183], [183, 184, 185, 186], [184, 185, 186, 187, 188], [184, 185, 186, 187, 188, 190, 191], [184, 185, 191], [184, 185, 191], [184, 185], [184, 185], [184, 185, 192, 193], [184, 185, 193], [184, 185, 194], [184, 185, 195], [184, 185, 195, 196], [195], [], [197, 198], [199], [199, 200, 201], [199, 200, 201, 202], [199, 200, 201, 202, 203, 204], [201, 205, 206], [207, 208], [207], [207], [209, 210], [209, 210, 212, 213], [212, 214, 215], [214, 216, 217, 218, 219], [214, 216, 218, 219, 220, 221, 222, 223, 224], [214, 216, 218, 221, 222, 225], [216, 218, 221, 222, 226, 227], [218, 221, 222, 227, 228, 229], [221, 227, 228, 229, 230, 231], [221, 228, 229, 230, 231, 232, 233, 234], [228, 231, 232, 233, 235, 236, 237], [231, 232, 233, 235, 237, 238, 239, 240], [231, 232, 233, 235, 239, 242, 243], [231, 233, 235, 244], [231, 233, 235, 244, 245, 246], [233, 235, 245, 248, 249], [233, 245, 249, 250], [233, 249], [251], [251, 252, 253, 254], [251, 252, 254], [252, 255, 256], [255], [255, 257], [259], [260, 261], [261], [], [262, 263], [262, 263, 265], [265], [265, 266, 267], [265, 267, 268, 269], [265, 267, 268, 269, 270, 271, 272], [265, 271, 272, 273], [272, 274, 275], [274, 275, 276, 277], [275, 276, 277, 278, 279], [276], [280], [280, 281, 282, 283], [280, 284], [285], [286], [], [], [], [288, 289, 290], [288, 290, 292], [290, 293], [293, 294], [], [295], [296], [297, 298], [297, 299, 301, 302], [299, 302, 303], [299, 304], [299, 305, 306], [299], [307, 308, 309], [307, 311], [307, 312, 313], [307, 312], [312, 314], [312, 314, 316], [312], [317], [317, 318, 319, 320, 321], [317, 319, 321, 322, 323, 324], [317, 319, 321, 323, 324, 326, 327, 328], [323, 324, 327, 328, 330, 332], [324, 328, 330, 334, 335, 337, 339], [328, 330, 337, 339, 340, 341], [330, 339, 342], [339], [343, 344], [345, 346, 347, 348], [345, 348, 349], [345, 348, 349, 350, 351], [345, 349, 350, 351, 353, 354, 355, 356, 357], [345, 349, 350, 351, 353, 356, 357, 358], [345, 350, 351, 356, 357, 358], [345, 350, 351, 357, 358, 360, 361], [345, 351, 357, 358, 360, 361, 362], [345, 351, 357, 360, 361, 362, 364], [345, 351, 357, 360, 362, 365], [351, 357, 362, 365, 366], [351, 357, 365, 366, 367], [351, 357, 365, 366, 367, 368, 369], [351, 357, 365, 366, 367, 369, 371, 372], [357, 365, 366, 367, 369, 373], [367, 369], [367, 369, 374, 375], [367, 369, 374, 376, 377], [377, 378], [378, 379], [378, 380]]\n"
     ]
    }
   ],
   "source": [
    "\n",
    "# with open(\"/DATA1/rzhou/ika/%(Dtype)s/data/%(n)02d_tracksMeta.csv\" %{'Dtype':Dtype,'n':n}, mode='r') as f_tracksMeta:\n",
    "#     tracksMeta_dict_reader = csv.DictReader(f_tracksMeta)\n",
    "cur_frame_interval_start=0\n",
    "interval=100 #可调 100=4分钟\n",
    "num_tracks_each_case=5 #可调 暂设每个case5辆车\n",
    "length = int(numFramesCase//interval) #each case in 100 timesteps\n",
    "# 创建一个元素为空列表的列表\n",
    "arr = [[] for _ in range(length)]\n",
    "tracksMeta_np = pd.read_csv(\"/DATA1/rzhou/ika/%(Dtype)s/data/%(n)02d_tracksMeta.csv\" %{'Dtype':Dtype,'n':n}).values\n",
    "for trackId in range(numTracks):\n",
    "    numFrames=tracksMeta_np[trackId][4]\n",
    "    if(numFrames>1500): continue\n",
    "    initialIdx=math.ceil(tracksMeta_np[trackId][2]/interval)\n",
    "    finalIdx=math.ceil(tracksMeta_np[trackId][3]/interval)\n",
    "    for idx in range(initialIdx,finalIdx-1):\n",
    "        arr[idx].append(trackId)\n",
    "print(arr)\n",
    "\n",
    "    "
   ]
  },
  {
   "cell_type": "code",
   "execution_count": 6,
   "id": "74852958",
   "metadata": {},
   "outputs": [],
   "source": [
    "with open(\"/DATA1/rzhou/ika/multi_testcases/%(Dtype)s_multi.csv\" %{'Dtype':Dtype}, \"w\") as f_single:\n",
    "    f_single.truncate(0)\n",
    "    f_single.write(\"caseID\")\n",
    "    for i in range(1,num_tracks_each_case+1):\n",
    "        f_single.write(\",x%(i)d,y%(i)d\" %{'i':i})\n",
    "    f_single.write(\"\\n\")"
   ]
  },
  {
   "cell_type": "code",
   "execution_count": 14,
   "id": "0bf72db4",
   "metadata": {},
   "outputs": [
    {
     "ename": "TypeError",
     "evalue": "%d format: a real number is required, not str",
     "output_type": "error",
     "traceback": [
      "\u001b[0;31m---------------------------------------------------------------------------\u001b[0m",
      "\u001b[0;31mTypeError\u001b[0m                                 Traceback (most recent call last)",
      "Cell \u001b[0;32mIn[14], line 16\u001b[0m\n\u001b[1;32m     14\u001b[0m         f_single\u001b[38;5;241m.\u001b[39mwrite(\u001b[38;5;28mstr\u001b[39m(cur_multi_id))\n\u001b[1;32m     15\u001b[0m         \u001b[38;5;28;01mfor\u001b[39;00m c \u001b[38;5;129;01min\u001b[39;00m coordinates:\n\u001b[0;32m---> 16\u001b[0m             f_single\u001b[38;5;241m.\u001b[39mwrite(\u001b[38;5;124;43m\"\u001b[39;49m\u001b[38;5;124;43m,\u001b[39;49m\u001b[38;5;132;43;01m%(c)d\u001b[39;49;00m\u001b[38;5;124;43m\"\u001b[39;49m\u001b[43m \u001b[49m\u001b[38;5;241;43m%\u001b[39;49m\u001b[43m{\u001b[49m\u001b[38;5;124;43m'\u001b[39;49m\u001b[38;5;124;43mc\u001b[39;49m\u001b[38;5;124;43m'\u001b[39;49m\u001b[43m:\u001b[49m\u001b[43mc\u001b[49m\u001b[43m}\u001b[49m)\n\u001b[1;32m     17\u001b[0m         f_single\u001b[38;5;241m.\u001b[39mwrite(\u001b[38;5;124m\"\u001b[39m\u001b[38;5;130;01m\\n\u001b[39;00m\u001b[38;5;124m\"\u001b[39m)\n\u001b[1;32m     18\u001b[0m cur_multi_id\u001b[38;5;241m+\u001b[39m\u001b[38;5;241m=\u001b[39m\u001b[38;5;241m1\u001b[39m\n",
      "\u001b[0;31mTypeError\u001b[0m: %d format: a real number is required, not str"
     ]
    }
   ],
   "source": [
    "cur_multi_id=1\n",
    "for i in range(length):\n",
    "    if len(arr[i])<num_tracks_each_case:continue\n",
    "    arr[i]=arr[i][:num_tracks_each_case]\n",
    "    for t in range(i*100,(i+1)*100):\n",
    "        with open(\"/DATA1/rzhou/ika/multi_testcases/%(Dtype)s_multi.csv\" %{'Dtype':Dtype}, \"a\") as f_multi,\\\n",
    "        open(\"/DATA1/rzhou/ika/%(Dtype)s/data/%(n)02d_tracks.csv\" %{'Dtype':Dtype,'n':n}, mode='r') as f_tracks:\n",
    "            tracks_dict_reader = csv.DictReader(f_tracks)\n",
    "            coordinates=[]\n",
    "            for row in tracks_dict_reader:\n",
    "                if int(row['trackId']) in arr[i] and int(row['frame']) == t:\n",
    "                    coordinates.append(float(row[\"xCenter\"]))\n",
    "                    coordinates.append(float(row[\"yCenter\"]))\n",
    "            f_multi.write(str(cur_multi_id))\n",
    "            for c in coordinates:\n",
    "                f_multi.write(\",%(c)f\" %{'c':c})\n",
    "            f_multi.write(\"\\n\")\n",
    "    cur_multi_id+=1\n",
    "                    "
   ]
  },
  {
   "cell_type": "code",
   "execution_count": null,
   "id": "5c8725d5",
   "metadata": {},
   "outputs": [],
   "source": []
  }
 ],
 "metadata": {
  "kernelspec": {
   "display_name": "base",
   "language": "python",
   "name": "base"
  },
  "language_info": {
   "codemirror_mode": {
    "name": "ipython",
    "version": 3
   },
   "file_extension": ".py",
   "mimetype": "text/x-python",
   "name": "python",
   "nbconvert_exporter": "python",
   "pygments_lexer": "ipython3",
   "version": "3.11.5"
  }
 },
 "nbformat": 4,
 "nbformat_minor": 5
}
