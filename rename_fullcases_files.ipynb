{
 "cells": [
  {
   "cell_type": "code",
   "execution_count": 2,
   "id": "66e3bab2",
   "metadata": {},
   "outputs": [],
   "source": [
    "import os"
   ]
  },
  {
   "cell_type": "code",
   "execution_count": 3,
   "id": "d8fdf423",
   "metadata": {},
   "outputs": [],
   "source": [
    "def rename(i):\n",
    "    path=\"/home/rzhou/Projects/generating-models-for-test-cases/scenariogenerationai/testcases/inD/full_cases/%(i)02d/\" %{'i':i}\n",
    "    files=os.listdir(path)\n",
    "    for file in files:\n",
    "        old = path + os.sep + file\n",
    "        new = path + os.sep + file.replace('s.csv','s')\n",
    "        os.rename(old,new)\n",
    "    \n",
    "    "
   ]
  },
  {
   "cell_type": "code",
   "execution_count": 4,
   "id": "001f13d4",
   "metadata": {},
   "outputs": [],
   "source": [
    "for i in range(33):\n",
    "    rename(i)"
   ]
  },
  {
   "cell_type": "code",
   "execution_count": null,
   "id": "04813448",
   "metadata": {},
   "outputs": [],
   "source": []
  }
 ],
 "metadata": {
  "kernelspec": {
   "display_name": "greaselm",
   "language": "python",
   "name": "greaselm"
  },
  "language_info": {
   "codemirror_mode": {
    "name": "ipython",
    "version": 3
   },
   "file_extension": ".py",
   "mimetype": "text/x-python",
   "name": "python",
   "nbconvert_exporter": "python",
   "pygments_lexer": "ipython3",
   "version": "3.8.18"
  }
 },
 "nbformat": 4,
 "nbformat_minor": 5
}
